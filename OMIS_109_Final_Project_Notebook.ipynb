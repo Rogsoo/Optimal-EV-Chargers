{
  "nbformat": 4,
  "nbformat_minor": 0,
  "metadata": {
    "colab": {
      "provenance": []
    },
    "kernelspec": {
      "name": "python3",
      "display_name": "Python 3"
    },
    "language_info": {
      "name": "python"
    }
  },
  "cells": [
    {
      "cell_type": "code",
      "source": [
        "!pip install gurobipy  # install gurobipy, if not already installed\n",
        "import gurobipy as gp  # import the installed package"
      ],
      "metadata": {
        "colab": {
          "base_uri": "https://localhost:8080/"
        },
        "id": "0f7yy8Z82nAv",
        "outputId": "35347af0-aba5-4f2b-ed0c-ce61b38f2851"
      },
      "execution_count": null,
      "outputs": [
        {
          "output_type": "stream",
          "name": "stdout",
          "text": [
            "Looking in indexes: https://pypi.org/simple, https://us-python.pkg.dev/colab-wheels/public/simple/\n",
            "Collecting gurobipy\n",
            "  Downloading gurobipy-10.0.1-cp310-cp310-manylinux2014_x86_64.whl (12.7 MB)\n",
            "\u001b[2K     \u001b[90m━━━━━━━━━━━━━━━━━━━━━━━━━━━━━━━━━━━━━━━━\u001b[0m \u001b[32m12.7/12.7 MB\u001b[0m \u001b[31m72.1 MB/s\u001b[0m eta \u001b[36m0:00:00\u001b[0m\n",
            "\u001b[?25hInstalling collected packages: gurobipy\n",
            "Successfully installed gurobipy-10.0.1\n"
          ]
        }
      ]
    },
    {
      "cell_type": "code",
      "source": [
        "import gurobipy as gp\n",
        "from gurobipy import GRB\n",
        "import pandas as pd\n",
        "\n",
        "from itertools import product\n",
        "from math import sqrt"
      ],
      "metadata": {
        "id": "XUB4h_1ukjJo"
      },
      "execution_count": null,
      "outputs": []
    },
    {
      "cell_type": "code",
      "source": [
        "m = gp.Model(\"Car Charging\")"
      ],
      "metadata": {
        "id": "oQ23cqJs9_Nh",
        "outputId": "1f8a5c6e-f47f-4d42-d847-e0005ef1f801",
        "colab": {
          "base_uri": "https://localhost:8080/"
        }
      },
      "execution_count": null,
      "outputs": [
        {
          "output_type": "stream",
          "name": "stdout",
          "text": [
            "Restricted license - for non-production use only - expires 2024-10-28\n"
          ]
        }
      ]
    },
    {
      "cell_type": "code",
      "source": [
        "def compute_distance(loc1, loc2):\n",
        "\n",
        "    dx = loc1[0] - loc2[0]\n",
        "    dy = loc1[1] - loc2[1]\n",
        "    return sqrt(dx*dx + dy*dy)"
      ],
      "metadata": {
        "id": "vrEW2CRyBL5a"
      },
      "execution_count": null,
      "outputs": []
    },
    {
      "cell_type": "code",
      "source": [
        "def solve_electric_car_chargers(c_coordinates, demand):\n",
        "    neighborhood = [*range(1,21)]\n",
        "    chargers = [*range(1,51)]\n",
        "    existing, e_coordinates, e_capacity  = gp.multidict({\n",
        "        1: [(1.3, 2.2), 5],\n",
        "        2: [(12.5, 1.2), 30],\n",
        "        3: [(5.33, 11), 20],\n",
        "        4: [(6.56, 3.55), 30],\n",
        "        5: [(1.02, 5.12), 15],\n",
        "        6: [(3.12, 12.23), 30],\n",
        "        7: [(5.5, 14.45), 30],\n",
        "        8: [(6.15, 15.5), 5],\n",
        "        9: [(16, 8.35), 20],\n",
        "        10: [(13.25, 14.25), 5],\n",
        "        11: [(8.51, 6.6), 15],\n",
        "        12: [(1.25, 8.23), 30],\n",
        "        13: [(0.23, 0.297897), 30],\n",
        "        14: [(8.564, 14.956), 15],\n",
        "        15: [(1.591, 1.89), 25],\n",
        "        16: [(3.892, 1.5845), 15],\n",
        "        17: [(5.525, 12.335), 25],\n",
        "        18: [(11.2315, 3.6735), 5],\n",
        "        19: [(3.3548, 12.543), 30],\n",
        "        20: [(4.4565, 4.546), 5],\n",
        "        21: [(1.26575, 6.43), 25],\n",
        "        22: [(3.134, 6.675), 20],\n",
        "        23: [(5.55, 6.155), 5],\n",
        "        24: [(1.344, 2.352), 15],\n",
        "        25: [(12.4675, 1.241), 30],\n",
        "        26: [(5.1546, 0.5451), 15],\n",
        "        27: [(6.557, 3.2455), 5],\n",
        "        28: [(1.098, 5.0987), 5],\n",
        "        29: [(3.087, 4.01576), 5],\n",
        "        30: [(5.021467, 14.009), 5]\n",
        "\n",
        "    })\n",
        "\n",
        "    temporary, t_coordinates, t_capacity  = gp.multidict({\n",
        "        31: [(12.365, 0.31), 5],\n",
        "        32: [(13.56, 13.25), 5],\n",
        "        33: [(5.51, 12.15), 10],\n",
        "        34: [(1.52, 3.53), 5],\n",
        "        35: [(3.52, 2.53), 10],\n",
        "        36: [(8.75, 3.45), 5],\n",
        "        37: [(31.5, 6.45), 10],\n",
        "        38: [(33.5, 16.5), 5],\n",
        "        39: [(15.5, 6.35), 10],\n",
        "        40: [(11.5, 4.1), 10],\n",
        "        41: [(3.45, 1.75), 10],\n",
        "        42: [(4.15, 2.35), 5],\n",
        "        43: [(13.5, 23.5), 10],\n",
        "        44: [(13.59, 2.15), 5],\n",
        "        45: [(14.53, 14.35), 5],\n",
        "        46: [(1.35, 6.75), 5],\n",
        "        47: [(3.53, 13.75), 10],\n",
        "        48: [(15.56, 12.35), 5],\n",
        "        49: [(3.534, 1.513), 10],\n",
        "        50: [(5.345, 2.563), 10],\n",
        "        71: [(14.5, 3.35), 5]\n",
        "    })\n",
        "\n",
        "    dcost = 0.05\n",
        "    tfcost = 3000000\n",
        "\n",
        "    f_coordinates = {}\n",
        "    for e in existing:\n",
        "        f_coordinates[e] = e_coordinates[e]\n",
        "\n",
        "    for t in temporary:\n",
        "        f_coordinates[t] = t_coordinates[t]\n",
        "\n",
        "    cf = []\n",
        "\n",
        "    for c in neighborhood:\n",
        "        for f in chargers:\n",
        "            tp = c,f\n",
        "            cf.append(tp)\n",
        "\n",
        "    distance = {(c,f): compute_distance(c_coordinates[c], f_coordinates[f]) for c, f in cf}\n",
        "\n",
        "    y = m.addVars(temporary, vtype=GRB.BINARY, name='temporary')\n",
        "\n",
        "    x = m.addVars(cf, vtype=GRB.CONTINUOUS, name='Assign')\n",
        "\n",
        "    z = m.addVars(temporary, vtype=GRB.CONTINUOUS, name='addCap' )\n",
        "    bigM = 1e9\n",
        "\n",
        "    m.setObjective(gp.quicksum(dcost*distance[c,f]*x[c,f] for c,f in cf)\n",
        "                   + tfcost*y.sum()\n",
        "                   + bigM*z.sum(), GRB.MINIMIZE)\n",
        "\n",
        "    demandConstrs = m.addConstrs((gp.quicksum(x[c,f] for f in chargers) == demand[c] for c in neighborhood), name='demandConstrs')\n",
        "\n",
        "    existingCapConstrs = m.addConstrs((gp.quicksum(x[c,e]  for c in neighborhood) <= e_capacity[e] for e in existing ),\n",
        "                                      name='existingCapConstrs')\n",
        "\n",
        "    temporaryCapConstrs = m.addConstrs((gp.quicksum(x[c,t]  for c in neighborhood) -z[t] <= t_capacity[t]*y[t] for t in temporary ), name='temporaryCapConstrs')\n",
        "\n",
        "    m.write('charge.lp')\n",
        "\n",
        "    m.optimize()\n",
        "\n",
        "    new_charger_cost = 0\n",
        "\n",
        "    print(f\"\\n\\n_____________Optimal costs______________________\")\n",
        "    for t in temporary:\n",
        "        if (y[t].x > 0.5):\n",
        "            new_charger_cost += tfcost*round(y[t].x)\n",
        "\n",
        "    patient_allocation_cost = 0\n",
        "    for c,f in cf:\n",
        "        if x[c,f].x > 1e-6:\n",
        "            patient_allocation_cost += dcost*round(distance[c,f]*x[c,f].x)\n",
        "\n",
        "    print(f\"The total cost of building COVID-19 temporary healhtcare facilities is ${new_charger_cost:,}\")\n",
        "    print(f\"The total cost of allocating COVID-19 patients to healtcare facilities is ${patient_allocation_cost:,}\")\n",
        "\n",
        "\n",
        "    print(f\"\\n_____________Plan for temporary facilities______________________\")\n",
        "    for t in temporary:\n",
        "        if (y[t].x > 0.5):\n",
        "            print(f\"Build a temporary facility at location {t}\")\n",
        "\n",
        "    print(f\"\\n_____________Plan to increase Capacity at temporary Facilities______________________\")\n",
        "    for t in temporary:\n",
        "        if (z[t].x > 1e-6):\n",
        "            print(f\"Increase  temporary facility capacity at location {t} by {round(z[t].x)} beds\")\n",
        "\n",
        "    f_demand = {}\n",
        "\n",
        "    print(f\"\\n_____________Allocation of county patients to COVID-19 healthcare facility______________________\")\n",
        "    for f in chargers:\n",
        "        temp = 0\n",
        "        for c in counties:\n",
        "            allocation = round(x[c,f].x)\n",
        "            if allocation > 0:\n",
        "                print(f\"{allocation} COVID-19 patients from county {c} are treated at facility {f} \")\n",
        "            temp += allocation\n",
        "        f_demand[f] = temp\n",
        "        print(f\"{temp} is the total number of COVID-19 patients that are treated at facility {f}. \")\n",
        "        print(f\"\\n________________________________________________________________________________\")\n",
        "\n",
        "    total_demand = 0\n",
        "\n",
        "    for c in counties:\n",
        "        total_demand += demand[c]\n",
        "\n",
        "    demand_satisfied = 0\n",
        "    for f in chargers:\n",
        "        demand_satisfied += f_demand[f]\n",
        "\n",
        "    print(f\"\\n_____________Test demand = supply______________________\")\n",
        "    print(f\"Total demand is: {total_demand:,} patients\")\n",
        "    print(f\"Total demand satisfied is: {demand_satisfied:,} beds\")"
      ],
      "metadata": {
        "id": "3I5HPoQHE9cO"
      },
      "execution_count": null,
      "outputs": []
    },
    {
      "cell_type": "code",
      "source": [
        "neighborhood, coordinates, num_electric_cars  = gp.multidict({\n",
        "    1: [(1, 1.5), 1179],\n",
        "    2: [(3, 1), 133],\n",
        "    3: [(5.5, 1.5), 23],\n",
        "    4: [(1, 4.5 ), 339],\n",
        "    5: [(3, 3.5), 303],\n",
        "    6: [(5.5, 4.5), 527],\n",
        "    7: [(1, 8), 469],\n",
        "    8: [(3, 6), 234],\n",
        "    9: [(4.5, 8), 4352],\n",
        "    10: [(3.23, 1.25), 1235],\n",
        "    11: [(7.5, 2.65), 1425],\n",
        "    12: [(10, 4.85 ), 271],\n",
        "    13: [(13, 3.15), 343],\n",
        "    14: [(9.56, 4.85), 275],\n",
        "    15: [(2.31, 18), 862],\n",
        "    16: [(3.73, 2.36),114],\n",
        "    17: [(14.5, 8.18), 455],\n",
        "    18: [(4.75, 8.12), 326],\n",
        "    19: [(1.16, 11.5), 735],\n",
        "    20: [(0.3, 2.11), 132]\n",
        "\n",
        "})\n",
        "\n",
        "\n",
        "solve_electric_car_chargers(coordinates, num_electric_cars)"
      ],
      "metadata": {
        "colab": {
          "base_uri": "https://localhost:8080/",
          "height": 436
        },
        "id": "pl9tmIxVD66O",
        "outputId": "b97834c6-24c5-401c-9bee-74e0a5ef9eff"
      },
      "execution_count": null,
      "outputs": [
        {
          "output_type": "error",
          "ename": "KeyError",
          "evalue": "ignored",
          "traceback": [
            "\u001b[0;31m---------------------------------------------------------------------------\u001b[0m",
            "\u001b[0;31mKeyError\u001b[0m                                  Traceback (most recent call last)",
            "\u001b[0;32m<ipython-input-7-a2f4f050e250>\u001b[0m in \u001b[0;36m<cell line: 26>\u001b[0;34m()\u001b[0m\n\u001b[1;32m     24\u001b[0m \u001b[0;34m\u001b[0m\u001b[0m\n\u001b[1;32m     25\u001b[0m \u001b[0;34m\u001b[0m\u001b[0m\n\u001b[0;32m---> 26\u001b[0;31m \u001b[0msolve_electric_car_chargers\u001b[0m\u001b[0;34m(\u001b[0m\u001b[0mcoordinates\u001b[0m\u001b[0;34m,\u001b[0m \u001b[0mnum_electric_cars\u001b[0m\u001b[0;34m)\u001b[0m\u001b[0;34m\u001b[0m\u001b[0;34m\u001b[0m\u001b[0m\n\u001b[0m",
            "\u001b[0;32m<ipython-input-5-2844f996f1fb>\u001b[0m in \u001b[0;36msolve_electric_car_chargers\u001b[0;34m(c_coordinates, demand)\u001b[0m\n\u001b[1;32m     95\u001b[0m                                       name='existingCapConstrs')\n\u001b[1;32m     96\u001b[0m \u001b[0;34m\u001b[0m\u001b[0m\n\u001b[0;32m---> 97\u001b[0;31m     \u001b[0mtemporaryCapConstrs\u001b[0m \u001b[0;34m=\u001b[0m \u001b[0mm\u001b[0m\u001b[0;34m.\u001b[0m\u001b[0maddConstrs\u001b[0m\u001b[0;34m(\u001b[0m\u001b[0;34m(\u001b[0m\u001b[0mgp\u001b[0m\u001b[0;34m.\u001b[0m\u001b[0mquicksum\u001b[0m\u001b[0;34m(\u001b[0m\u001b[0mx\u001b[0m\u001b[0;34m[\u001b[0m\u001b[0mc\u001b[0m\u001b[0;34m,\u001b[0m\u001b[0mt\u001b[0m\u001b[0;34m]\u001b[0m  \u001b[0;32mfor\u001b[0m \u001b[0mc\u001b[0m \u001b[0;32min\u001b[0m \u001b[0mneighborhood\u001b[0m\u001b[0;34m)\u001b[0m \u001b[0;34m-\u001b[0m\u001b[0mz\u001b[0m\u001b[0;34m[\u001b[0m\u001b[0mt\u001b[0m\u001b[0;34m]\u001b[0m \u001b[0;34m<=\u001b[0m \u001b[0mt_capacity\u001b[0m\u001b[0;34m[\u001b[0m\u001b[0mt\u001b[0m\u001b[0;34m]\u001b[0m\u001b[0;34m*\u001b[0m\u001b[0my\u001b[0m\u001b[0;34m[\u001b[0m\u001b[0mt\u001b[0m\u001b[0;34m]\u001b[0m \u001b[0;32mfor\u001b[0m \u001b[0mt\u001b[0m \u001b[0;32min\u001b[0m \u001b[0mtemporary\u001b[0m \u001b[0;34m)\u001b[0m\u001b[0;34m,\u001b[0m \u001b[0mname\u001b[0m\u001b[0;34m=\u001b[0m\u001b[0;34m'temporaryCapConstrs'\u001b[0m\u001b[0;34m)\u001b[0m\u001b[0;34m\u001b[0m\u001b[0;34m\u001b[0m\u001b[0m\n\u001b[0m\u001b[1;32m     98\u001b[0m \u001b[0;34m\u001b[0m\u001b[0m\n\u001b[1;32m     99\u001b[0m     \u001b[0mm\u001b[0m\u001b[0;34m.\u001b[0m\u001b[0mwrite\u001b[0m\u001b[0;34m(\u001b[0m\u001b[0;34m'charge.lp'\u001b[0m\u001b[0;34m)\u001b[0m\u001b[0;34m\u001b[0m\u001b[0;34m\u001b[0m\u001b[0m\n",
            "\u001b[0;32msrc/gurobipy/model.pxi\u001b[0m in \u001b[0;36mgurobipy.Model.addConstrs\u001b[0;34m()\u001b[0m\n",
            "\u001b[0;32m<ipython-input-5-2844f996f1fb>\u001b[0m in \u001b[0;36m<genexpr>\u001b[0;34m(.0)\u001b[0m\n\u001b[1;32m     95\u001b[0m                                       name='existingCapConstrs')\n\u001b[1;32m     96\u001b[0m \u001b[0;34m\u001b[0m\u001b[0m\n\u001b[0;32m---> 97\u001b[0;31m     \u001b[0mtemporaryCapConstrs\u001b[0m \u001b[0;34m=\u001b[0m \u001b[0mm\u001b[0m\u001b[0;34m.\u001b[0m\u001b[0maddConstrs\u001b[0m\u001b[0;34m(\u001b[0m\u001b[0;34m(\u001b[0m\u001b[0mgp\u001b[0m\u001b[0;34m.\u001b[0m\u001b[0mquicksum\u001b[0m\u001b[0;34m(\u001b[0m\u001b[0mx\u001b[0m\u001b[0;34m[\u001b[0m\u001b[0mc\u001b[0m\u001b[0;34m,\u001b[0m\u001b[0mt\u001b[0m\u001b[0;34m]\u001b[0m  \u001b[0;32mfor\u001b[0m \u001b[0mc\u001b[0m \u001b[0;32min\u001b[0m \u001b[0mneighborhood\u001b[0m\u001b[0;34m)\u001b[0m \u001b[0;34m-\u001b[0m\u001b[0mz\u001b[0m\u001b[0;34m[\u001b[0m\u001b[0mt\u001b[0m\u001b[0;34m]\u001b[0m \u001b[0;34m<=\u001b[0m \u001b[0mt_capacity\u001b[0m\u001b[0;34m[\u001b[0m\u001b[0mt\u001b[0m\u001b[0;34m]\u001b[0m\u001b[0;34m*\u001b[0m\u001b[0my\u001b[0m\u001b[0;34m[\u001b[0m\u001b[0mt\u001b[0m\u001b[0;34m]\u001b[0m \u001b[0;32mfor\u001b[0m \u001b[0mt\u001b[0m \u001b[0;32min\u001b[0m \u001b[0mtemporary\u001b[0m \u001b[0;34m)\u001b[0m\u001b[0;34m,\u001b[0m \u001b[0mname\u001b[0m\u001b[0;34m=\u001b[0m\u001b[0;34m'temporaryCapConstrs'\u001b[0m\u001b[0;34m)\u001b[0m\u001b[0;34m\u001b[0m\u001b[0;34m\u001b[0m\u001b[0m\n\u001b[0m\u001b[1;32m     98\u001b[0m \u001b[0;34m\u001b[0m\u001b[0m\n\u001b[1;32m     99\u001b[0m     \u001b[0mm\u001b[0m\u001b[0;34m.\u001b[0m\u001b[0mwrite\u001b[0m\u001b[0;34m(\u001b[0m\u001b[0;34m'charge.lp'\u001b[0m\u001b[0;34m)\u001b[0m\u001b[0;34m\u001b[0m\u001b[0;34m\u001b[0m\u001b[0m\n",
            "\u001b[0;32msrc/gurobipy/gurobi.pxi\u001b[0m in \u001b[0;36mgurobipy.quicksum\u001b[0;34m()\u001b[0m\n",
            "\u001b[0;32m<ipython-input-5-2844f996f1fb>\u001b[0m in \u001b[0;36m<genexpr>\u001b[0;34m(.0)\u001b[0m\n\u001b[1;32m     95\u001b[0m                                       name='existingCapConstrs')\n\u001b[1;32m     96\u001b[0m \u001b[0;34m\u001b[0m\u001b[0m\n\u001b[0;32m---> 97\u001b[0;31m     \u001b[0mtemporaryCapConstrs\u001b[0m \u001b[0;34m=\u001b[0m \u001b[0mm\u001b[0m\u001b[0;34m.\u001b[0m\u001b[0maddConstrs\u001b[0m\u001b[0;34m(\u001b[0m\u001b[0;34m(\u001b[0m\u001b[0mgp\u001b[0m\u001b[0;34m.\u001b[0m\u001b[0mquicksum\u001b[0m\u001b[0;34m(\u001b[0m\u001b[0mx\u001b[0m\u001b[0;34m[\u001b[0m\u001b[0mc\u001b[0m\u001b[0;34m,\u001b[0m\u001b[0mt\u001b[0m\u001b[0;34m]\u001b[0m  \u001b[0;32mfor\u001b[0m \u001b[0mc\u001b[0m \u001b[0;32min\u001b[0m \u001b[0mneighborhood\u001b[0m\u001b[0;34m)\u001b[0m \u001b[0;34m-\u001b[0m\u001b[0mz\u001b[0m\u001b[0;34m[\u001b[0m\u001b[0mt\u001b[0m\u001b[0;34m]\u001b[0m \u001b[0;34m<=\u001b[0m \u001b[0mt_capacity\u001b[0m\u001b[0;34m[\u001b[0m\u001b[0mt\u001b[0m\u001b[0;34m]\u001b[0m\u001b[0;34m*\u001b[0m\u001b[0my\u001b[0m\u001b[0;34m[\u001b[0m\u001b[0mt\u001b[0m\u001b[0;34m]\u001b[0m \u001b[0;32mfor\u001b[0m \u001b[0mt\u001b[0m \u001b[0;32min\u001b[0m \u001b[0mtemporary\u001b[0m \u001b[0;34m)\u001b[0m\u001b[0;34m,\u001b[0m \u001b[0mname\u001b[0m\u001b[0;34m=\u001b[0m\u001b[0;34m'temporaryCapConstrs'\u001b[0m\u001b[0;34m)\u001b[0m\u001b[0;34m\u001b[0m\u001b[0;34m\u001b[0m\u001b[0m\n\u001b[0m\u001b[1;32m     98\u001b[0m \u001b[0;34m\u001b[0m\u001b[0m\n\u001b[1;32m     99\u001b[0m     \u001b[0mm\u001b[0m\u001b[0;34m.\u001b[0m\u001b[0mwrite\u001b[0m\u001b[0;34m(\u001b[0m\u001b[0;34m'charge.lp'\u001b[0m\u001b[0;34m)\u001b[0m\u001b[0;34m\u001b[0m\u001b[0;34m\u001b[0m\u001b[0m\n",
            "\u001b[0;31mKeyError\u001b[0m: (1, 71)"
          ]
        }
      ]
    },
    {
      "cell_type": "markdown",
      "source": [
        "\n",
        "neighborhood, coordinates, num_electric_cars  = gp.multidict({\n",
        "    'San Francisco': [(1, 1.5), 11729],\n",
        "    'Mountain View': [(3, 1), 1331],\n",
        "    'Cupertino': [(5.5, 1.5), 232],\n",
        "    'Menlo Park': [(1, 4.5 ), 3339],\n",
        "    'San Ramon': [(3, 3.5), 3603],\n",
        "    'Milpitas': [(5.5, 4.5), 527],\n",
        "    'Oakland': [(1, 8), 4697],\n",
        "    'Los Altos': [(3, 6), 2234],\n",
        "    'Walnut Creek': [(4.5, 8), 4352],  \n",
        "    'San Jose': [(2, 2.5), 2334],\n",
        "    'Saratoga': [(3.23, 1.25), 7235],\n",
        "    'Pleasanton': [(7.5, 2.65), 3425],\n",
        "    'Pittsburgh': [(10, 4.85 ), 5771],\n",
        "    'Fremont': [(13, 3.15), 2343],\n",
        "    'Hayward': [(9.56, 4.85), 2725],\n",
        "    'Daly City': [(2.31, 18), 8632],\n",
        "    'Redwood City': [(3.73, 2.36),1145],\n",
        "    'Foster City': [(14.5, 8.18), 4535],\n",
        "    'Berkeley': [(4.75, 8.12), 3256],  \n",
        "    'Santa Clara': [(1.16, 11.5), 7385],\n",
        "    'Burlingame': [(0.3, 2.11), 1328],\n",
        "    'Gilroy': [(7.53, 12.5), 2413],\n",
        "    'Millbrae': [(11.34, 54.75 ), 865],\n",
        "    'Mill Valley': [(5.63, 13.5), 2434],\n",
        "    'Vallejo': [(15.5, 4.59), 2139],\n",
        "    'Union City': [(11.5, 12.38), 1528],\n",
        "    'Petaluma': [(13.45, 13.13), 2380],\n",
        "    'Morgan Hill': [(4.51, 18.67), 1256],\n",
        "    'Dublin': [(2.5, 1), 1835]\n",
        "\n",
        "})"
      ],
      "metadata": {
        "id": "icRDaDKzJ9jo"
      }
    },
    {
      "cell_type": "code",
      "source": [],
      "metadata": {
        "id": "yja8tNqID82V"
      },
      "execution_count": null,
      "outputs": []
    },
    {
      "cell_type": "code",
      "source": [],
      "metadata": {
        "id": "FrLPEPKiJ87z"
      },
      "execution_count": null,
      "outputs": []
    }
  ]
}